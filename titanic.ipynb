{
 "cells": [
  {
   "cell_type": "markdown",
   "metadata": {},
   "source": [
    "* crear repositorio titanic\n",
    "* importar el dataset titanic de seaborn\n",
    "* tratamiento de nulos\n",
    "* hacernos preguntas sobre los datos\n",
    "* graficar las respuestas con seaborn y matplot"
   ]
  },
  {
   "cell_type": "code",
   "execution_count": 1,
   "metadata": {},
   "outputs": [],
   "source": [
    "import seaborn as sns"
   ]
  },
  {
   "cell_type": "code",
   "execution_count": 12,
   "metadata": {},
   "outputs": [],
   "source": [
    "df = sns.load_dataset(\"titanic\")"
   ]
  },
  {
   "cell_type": "code",
   "execution_count": 13,
   "metadata": {},
   "outputs": [
    {
     "data": {
      "text/plain": [
       "Index(['survived', 'pclass', 'sex', 'age', 'sibsp', 'parch', 'fare',\n",
       "       'embarked', 'class', 'who', 'adult_male', 'deck', 'embark_town',\n",
       "       'alive', 'alone'],\n",
       "      dtype='object')"
      ]
     },
     "execution_count": 13,
     "metadata": {},
     "output_type": "execute_result"
    }
   ],
   "source": [
    "df.columns"
   ]
  },
  {
   "cell_type": "code",
   "execution_count": 14,
   "metadata": {},
   "outputs": [
    {
     "data": {
      "text/plain": [
       "survived         0\n",
       "pclass           0\n",
       "sex              0\n",
       "age            177\n",
       "sibsp            0\n",
       "parch            0\n",
       "fare             0\n",
       "embarked         2\n",
       "class            0\n",
       "who              0\n",
       "adult_male       0\n",
       "deck           688\n",
       "embark_town      2\n",
       "alive            0\n",
       "alone            0\n",
       "dtype: int64"
      ]
     },
     "execution_count": 14,
     "metadata": {},
     "output_type": "execute_result"
    }
   ],
   "source": [
    "#miramos cuantos numeros null tenemos\n",
    "df.isnull().sum()"
   ]
  },
  {
   "cell_type": "code",
   "execution_count": null,
   "metadata": {},
   "outputs": [],
   "source": [
    "#creamos un df numerico y lo guardamos como otro df para no alterar el original\n",
    "df_num = \n"
   ]
  },
  {
   "cell_type": "code",
   "execution_count": null,
   "metadata": {},
   "outputs": [],
   "source": [
    "#saber que porcentaje presentan para ver si los eliminamos o los reparamos\n"
   ]
  },
  {
   "cell_type": "code",
   "execution_count": null,
   "metadata": {},
   "outputs": [],
   "source": [
    "# reparamos los valores nulos"
   ]
  },
  {
   "cell_type": "code",
   "execution_count": 5,
   "metadata": {},
   "outputs": [],
   "source": [
    "def replace_missing_data(df):\n",
    "\n",
    "    # Vemos qué columnas tienen valores nulos\n",
    "    mis_cols = list(df.isnull().sum(axis=0)[df.isnull().sum(axis=0)>0].index)\n",
    "\n",
    "    # Iteramos sobre ellas\n",
    "    for col in mis_cols:\n",
    "\n",
    "        # Si la variable es discreta,...\n",
    "        if df[col].dtype in ['object']:\n",
    "            mode_col = df[col].mode().values[0]\n",
    "            df[col] = df[col].fillna(mode_col)\n",
    "\n",
    "        # Si son números enteros\n",
    "        elif df[col].dtype in ['int']:\n",
    "            df[col] = df[col].fillna(df['col'].median())\n",
    "\n",
    "        # Si son números reales\n",
    "        elif df[col].dtype in ['float']:\n",
    "            df[col] = df[col].fillna(df['col'].mean())"
   ]
  },
  {
   "cell_type": "code",
   "execution_count": null,
   "metadata": {},
   "outputs": [],
   "source": [
    "#que tipos de variables tenemos\n",
    "#que distribucion siguen\n",
    "#que correlacion hay entre los valores\n",
    "#influye el sexo o la edad en la superviviencia"
   ]
  }
 ],
 "metadata": {
  "kernelspec": {
   "display_name": "Python 3",
   "language": "python",
   "name": "python3"
  },
  "language_info": {
   "codemirror_mode": {
    "name": "ipython",
    "version": 3
   },
   "file_extension": ".py",
   "mimetype": "text/x-python",
   "name": "python",
   "nbconvert_exporter": "python",
   "pygments_lexer": "ipython3",
   "version": "3.10.10"
  }
 },
 "nbformat": 4,
 "nbformat_minor": 2
}
